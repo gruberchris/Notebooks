{
 "cells": [
  {
   "cell_type": "markdown",
   "metadata": {},
   "source": [
    "### Merge Sort (top down)"
   ]
  },
  {
   "cell_type": "code",
   "execution_count": 5,
   "metadata": {},
   "outputs": [],
   "source": [
    "const unsortedArray = [9, 2, 5, 6, 4, 3, 7, 10, 1, 8];"
   ]
  },
  {
   "cell_type": "code",
   "execution_count": 6,
   "metadata": {},
   "outputs": [],
   "source": [
    "const mergeTopDown = (left, right) => {\n",
    "    const arr = [];\n",
    "    \n",
    "    while (left.length && right.length) {\n",
    "        if (left[0] < right[0]) {\n",
    "            arr.push(left.shift());\n",
    "        } else {\n",
    "            arr.push(right.shift());\n",
    "        }\n",
    "    }\n",
    "    \n",
    "    return arr.concat(left.slice()).concat(right.slice());\n",
    "}"
   ]
  },
  {
   "cell_type": "code",
   "execution_count": 7,
   "metadata": {},
   "outputs": [],
   "source": [
    "const mergeSort = arr => {\n",
    "    if (arr.length < 2) {\n",
    "        return arr;\n",
    "    }\n",
    "    \n",
    "    const middle = Math.floor(arr.length / 2);\n",
    "    const left = arr.slice(0, middle);\n",
    "    const right = arr.slice(middle);\n",
    "    \n",
    "    return mergeTopDown(mergeSort(left), mergeSort(right));\n",
    "}"
   ]
  },
  {
   "cell_type": "code",
   "execution_count": 8,
   "metadata": {},
   "outputs": [
    {
     "name": "stdout",
     "output_type": "stream",
     "text": [
      "[ 1, 2, 3, 4, 5, 6, 7, 8, 9, 10 ]\n"
     ]
    }
   ],
   "source": [
    "console.log(mergeSort(unsortedArray.slice()));"
   ]
  },
  {
   "cell_type": "code",
   "execution_count": null,
   "metadata": {},
   "outputs": [],
   "source": []
  }
 ],
 "metadata": {
  "kernelspec": {
   "display_name": "Javascript (Node.js)",
   "language": "javascript",
   "name": "javascript"
  },
  "language_info": {
   "file_extension": ".js",
   "mimetype": "application/javascript",
   "name": "javascript",
   "version": "10.16.3"
  }
 },
 "nbformat": 4,
 "nbformat_minor": 2
}
