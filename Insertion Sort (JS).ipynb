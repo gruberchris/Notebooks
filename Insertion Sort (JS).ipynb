{
 "cells": [
  {
   "cell_type": "markdown",
   "metadata": {},
   "source": [
    "### Insertion Sort"
   ]
  },
  {
   "cell_type": "code",
   "execution_count": 7,
   "metadata": {},
   "outputs": [],
   "source": [
    "const unsorted_array = [9, 2, 5, 6, 4, 3, 7, 10, 1, 8];"
   ]
  },
  {
   "cell_type": "code",
   "execution_count": 8,
   "metadata": {},
   "outputs": [],
   "source": [
    "const insertionSort = arr => {\n",
    "    for (let i = 1; i < arr.length; i++) {\n",
    "        const val = arr[i];\n",
    "        let flag = false;\n",
    "\n",
    "        for (let j = i - 1; j >= 0 && !flag;) {\n",
    "            if (val < arr[j]) {\n",
    "                arr[j + 1] = arr[j];\n",
    "                j--;\n",
    "                arr[j + 1] = val;\n",
    "            }\n",
    "            else\n",
    "            {\n",
    "                flag = true;\n",
    "            }\n",
    "        }\n",
    "    }\n",
    "    \n",
    "    return arr;\n",
    "}"
   ]
  },
  {
   "cell_type": "code",
   "execution_count": 9,
   "metadata": {},
   "outputs": [
    {
     "name": "stdout",
     "output_type": "stream",
     "text": [
      "[ 1, 2, 3, 4, 5, 6, 7, 8, 9, 10 ]\n"
     ]
    }
   ],
   "source": [
    "console.log(insertionSort(unsorted_array.slice()));"
   ]
  },
  {
   "cell_type": "code",
   "execution_count": null,
   "metadata": {},
   "outputs": [],
   "source": []
  }
 ],
 "metadata": {
  "kernelspec": {
   "display_name": "Javascript (Node.js)",
   "language": "javascript",
   "name": "javascript"
  },
  "language_info": {
   "file_extension": ".js",
   "mimetype": "application/javascript",
   "name": "javascript",
   "version": "10.16.3"
  }
 },
 "nbformat": 4,
 "nbformat_minor": 2
}
