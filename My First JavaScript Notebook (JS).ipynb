{
 "cells": [
  {
   "cell_type": "code",
   "execution_count": 20,
   "metadata": {
    "scrolled": true
   },
   "outputs": [],
   "source": [
    "const names = [{name: 'chris', age: 26}, {name: 'bob', age: 36}, {name: 'karen', age: 26}];\n",
    "const sum = names.reduce((acc, name) => acc + name.age, 0);\n",
    "const transformedName = names.map(name => name.isTransformed = true);\n",
    "const filteredNames = names.filter(name => name.age < 30);"
   ]
  },
  {
   "cell_type": "markdown",
   "metadata": {},
   "source": [
    "## this is what this next step does"
   ]
  },
  {
   "cell_type": "code",
   "execution_count": 21,
   "metadata": {},
   "outputs": [
    {
     "name": "stdout",
     "output_type": "stream",
     "text": [
      "Sum is 88\n"
     ]
    }
   ],
   "source": [
    "console.log(`Sum is ${sum}`);"
   ]
  },
  {
   "cell_type": "code",
   "execution_count": 22,
   "metadata": {},
   "outputs": [
    {
     "name": "stdout",
     "output_type": "stream",
     "text": [
      "[ { name: 'chris', age: 26, isTransformed: true },\n",
      "  { name: 'bob', age: 36, isTransformed: true },\n",
      "  { name: 'karen', age: 26, isTransformed: true } ]\n"
     ]
    }
   ],
   "source": [
    "console.log(names);"
   ]
  },
  {
   "cell_type": "code",
   "execution_count": 23,
   "metadata": {},
   "outputs": [
    {
     "name": "stdout",
     "output_type": "stream",
     "text": [
      "[ { name: 'chris', age: 26, isTransformed: true },\n",
      "  { name: 'karen', age: 26, isTransformed: true } ]\n"
     ]
    }
   ],
   "source": [
    "console.log(filteredNames);"
   ]
  },
  {
   "cell_type": "markdown",
   "metadata": {},
   "source": [
    "### This is my first JavaScript Jupyter Notebook\n",
    "* Reduce\n",
    "* Map\n",
    "* Filter"
   ]
  },
  {
   "cell_type": "code",
   "execution_count": null,
   "metadata": {},
   "outputs": [],
   "source": []
  }
 ],
 "metadata": {
  "kernelspec": {
   "display_name": "Javascript (Node.js)",
   "language": "javascript",
   "name": "javascript"
  },
  "language_info": {
   "file_extension": ".js",
   "mimetype": "application/javascript",
   "name": "javascript",
   "version": "10.16.3"
  }
 },
 "nbformat": 4,
 "nbformat_minor": 2
}
