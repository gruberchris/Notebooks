{
 "cells": [
  {
   "cell_type": "markdown",
   "metadata": {},
   "source": [
    "# Read Later\n",
    " \n",
    " ## Jupyter Notebooks\n",
    " - https://jupyter.org/install\n",
    " - https://stackoverflow.com/questions/41034866/running-jupyter-via-command-line-on-windows\n",
    " - https://medium.com/ibm-data-science-experience/markdown-for-jupyter-notebooks-cheatsheet-386c05aeebed\n",
    " - https://www.datacamp.com/community/tutorials/tutorial-jupyter-notebook\n",
    " - https://jupyter-notebook.readthedocs.io/en/latest/examples/Notebook/Working%20With%20Markdown%20Cells.html\n",
    " \n",
    " ## Go\n",
    " - https://medium.com/golang-learn/go-project-layout-e5213cdcfaa2\n",
    " - https://www.guru99.com/google-go-tutorial.html\n",
    " - https://tutorialedge.net/golang/go-websocket-tutorial/\n",
    " - https://scotch.io/bar-talk/build-a-realtime-chat-server-with-go-and-websockets\n",
    " - https://coderwall.com/p/wohavg/creating-a-simple-tcp-server-in-go\n",
    " - https://tutorialedge.net/projects/chat-system-in-go-and-react/part-4-handling-multiple-clients/\n",
    " - https://anchorloop.com/2017/05/20/fun-with-websockets-in-golang/\n",
    " - https://www.jonathan-petitcolas.com/2015/01/27/playing-with-websockets-in-go.html\n",
    " - https://medium.com/@johnshenk77/create-a-simple-chat-application-in-go-using-websocket-d2cb387db836\n",
    " - https://www.thepolyglotdeveloper.com/2017/05/network-sockets-with-the-go-programming-language/\n",
    " \n",
    " ## Misc\n",
    " - http://www.papg.com/show?2XMX\n",
    " - https://codeburst.io/event-emitters-and-listeners-in-javascript-9cf0c639fd63\n",
    " - https://www.allaboutcircuits.com/textbook/direct-current/chpt-1/static-electricity/\n",
    " - https://scotch.io/tutorials/setting-up-a-node-project-with-typescript"
   ]
  },
  {
   "cell_type": "code",
   "execution_count": null,
   "metadata": {},
   "outputs": [],
   "source": []
  }
 ],
 "metadata": {
  "kernelspec": {
   "display_name": "Python 3",
   "language": "python",
   "name": "python3"
  },
  "language_info": {
   "codemirror_mode": {
    "name": "ipython",
    "version": 3
   },
   "file_extension": ".py",
   "mimetype": "text/x-python",
   "name": "python",
   "nbconvert_exporter": "python",
   "pygments_lexer": "ipython3",
   "version": "3.7.4"
  }
 },
 "nbformat": 4,
 "nbformat_minor": 2
}
