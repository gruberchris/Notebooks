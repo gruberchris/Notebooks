{
 "cells": [
  {
   "cell_type": "markdown",
   "metadata": {},
   "source": [
    "### Simple IsAnagram approach"
   ]
  },
  {
   "cell_type": "code",
   "execution_count": 3,
   "metadata": {},
   "outputs": [],
   "source": [
    "const simpleIsAnagram = (wordA, wordB) => {\n",
    "    const sanitizeString = str => str.toLowerCase().replace(/[^a-z\\d]/g, '').split('').sort().join('');\n",
    "    \n",
    "    return sanitizeString(wordA) === sanitizeString(wordB);\n",
    "}"
   ]
  },
  {
   "cell_type": "code",
   "execution_count": 4,
   "metadata": {},
   "outputs": [
    {
     "name": "stdout",
     "output_type": "stream",
     "text": [
      "true\n"
     ]
    }
   ],
   "source": [
    "console.log(simpleIsAnagram('Listen', 'silent'));"
   ]
  },
  {
   "cell_type": "markdown",
   "metadata": {},
   "source": [
    "### Solving IsAnagram using a character map"
   ]
  },
  {
   "cell_type": "code",
   "execution_count": 8,
   "metadata": {},
   "outputs": [],
   "source": [
    "const isAnagram = (wordA, wordB) => {\n",
    "    const createCharacterMap = text => {\n",
    "        const characterMap = {};\n",
    "        \n",
    "        for (let char of text) {\n",
    "            if (characterMap.hasOwnProperty(char)) {\n",
    "                characterMap[char]++;\n",
    "            } else {\n",
    "                characterMap[char] = 1;\n",
    "            }\n",
    "        }\n",
    "        \n",
    "        return characterMap;\n",
    "    }\n",
    "    \n",
    "    if (wordA.length !== wordB.length) {\n",
    "        return false;\n",
    "    }\n",
    "    \n",
    "    let wordAMap = createCharacterMap(wordA.toLowerCase());\n",
    "    let wordBMap = createCharacterMap(wordB.toLowerCase());\n",
    "\n",
    "    for (let char in wordAMap) {\n",
    "        if (wordAMap[char] !== wordBMap[char]) {\n",
    "            return false;\n",
    "        }\n",
    "    }\n",
    "\n",
    "    return true;\n",
    "}"
   ]
  },
  {
   "cell_type": "code",
   "execution_count": 10,
   "metadata": {},
   "outputs": [
    {
     "name": "stdout",
     "output_type": "stream",
     "text": [
      "true\n"
     ]
    }
   ],
   "source": [
    "console.log(isAnagram('Listen', 'silent'));"
   ]
  },
  {
   "cell_type": "code",
   "execution_count": null,
   "metadata": {},
   "outputs": [],
   "source": []
  }
 ],
 "metadata": {
  "kernelspec": {
   "display_name": "Javascript (Node.js)",
   "language": "javascript",
   "name": "javascript"
  },
  "language_info": {
   "file_extension": ".js",
   "mimetype": "application/javascript",
   "name": "javascript",
   "version": "10.16.3"
  }
 },
 "nbformat": 4,
 "nbformat_minor": 2
}
