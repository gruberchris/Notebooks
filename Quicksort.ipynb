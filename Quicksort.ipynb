{
 "cells": [
  {
   "cell_type": "markdown",
   "metadata": {},
   "source": [
    "### Quicksort Implemented In JavaScript"
   ]
  },
  {
   "cell_type": "code",
   "execution_count": 31,
   "metadata": {},
   "outputs": [],
   "source": [
    "const unsorted_array = [9, 2, 5, 6, 4, 3, 7, 10, 1, 8];"
   ]
  },
  {
   "cell_type": "code",
   "execution_count": 32,
   "metadata": {},
   "outputs": [],
   "source": [
    "const swap = (arr, i, j) => {\n",
    "    const temp = arr[i];\n",
    "    arr[i] = arr[j];\n",
    "    arr[j] = temp;\n",
    "}"
   ]
  },
  {
   "cell_type": "code",
   "execution_count": 33,
   "metadata": {},
   "outputs": [],
   "source": [
    "const partition = (arr, low, high) => {\n",
    "    const pivot = arr[high];\n",
    "    let i = low;\n",
    "\n",
    "    for (let j = low; j != high; j++) {\n",
    "        if (arr[j] < pivot)\n",
    "        {\n",
    "            swap(arr, j, i);\n",
    "            i++;\n",
    "        }\n",
    "    }\n",
    "\n",
    "    swap(arr, high, i);\n",
    "\n",
    "    return i;\n",
    "}"
   ]
  },
  {
   "cell_type": "code",
   "execution_count": 34,
   "metadata": {},
   "outputs": [],
   "source": [
    "const quickSort = (arr, low = 0, high = arr.length - 1) => {\n",
    "    const p = partition(arr, low, high);\n",
    "    \n",
    "    if (low < p - 1) {\n",
    "        quickSort(arr, low, p - 1);\n",
    "    }\n",
    "    \n",
    "    if (high > p) {\n",
    "        quickSort(arr, p, high);\n",
    "    }\n",
    "    \n",
    "    return arr;\n",
    "}"
   ]
  },
  {
   "cell_type": "code",
   "execution_count": 35,
   "metadata": {},
   "outputs": [
    {
     "name": "stdout",
     "output_type": "stream",
     "text": [
      "[ 1, 2, 3, 4, 5, 6, 7, 8, 9, 10 ]\n"
     ]
    }
   ],
   "source": [
    "console.log(quickSort(unsorted_array.slice()));"
   ]
  },
  {
   "cell_type": "code",
   "execution_count": null,
   "metadata": {},
   "outputs": [],
   "source": []
  }
 ],
 "metadata": {
  "kernelspec": {
   "display_name": "Javascript (Node.js)",
   "language": "javascript",
   "name": "javascript"
  },
  "language_info": {
   "file_extension": ".js",
   "mimetype": "application/javascript",
   "name": "javascript",
   "version": "10.16.3"
  }
 },
 "nbformat": 4,
 "nbformat_minor": 2
}
